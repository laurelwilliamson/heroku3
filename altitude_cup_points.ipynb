{
 "cells": [
  {
   "cell_type": "code",
   "execution_count": 3,
   "metadata": {},
   "outputs": [],
   "source": [
    "import pandas as pd\n",
    "import matplotlib.pyplot as plt\n",
    "from sklearn.cluster import KMeans\n",
    "\n",
    "df = pd.read_csv('/Users/laurelwilliamson/Desktop/GITHUB/testingstuff/altitudecuppoints.csv', header=0)\n",
    "\n",
    "\n",
    "# fixed = df[pd.to_numeric(df['Total Cup Points'], errors='coerce').notnull()]\n",
    "\n",
    "# really_fixed = fixed[pd.to_numeric(df['Mean Altitude in Meters'], errors='coerce').notnull()]\n",
    "\n",
    "comeon = df.dropna()\n",
    "\n",
    "\n",
    "# comeon['Total.Cup.Points'] = df['Total.Cup.Points'].astype(float)\n",
    "\n",
    "# comeon['altitude_mean_'] = df['Altitude'].astype(float)\n",
    "\n",
    "# please = pd.to_numeric(pleasebro[\"Altitude\"], downcast=\"float\")\n"
   ]
  },
  {
   "cell_type": "code",
   "execution_count": 16,
   "metadata": {},
   "outputs": [
    {
     "name": "stdout",
     "output_type": "stream",
     "text": [
      "[[8.16524272e+01 9.67419417e+02]\n",
      " [8.10000000e+01 1.90164000e+05]\n",
      " [8.10000000e+01 1.10000000e+05]\n",
      " [8.25972927e+01 1.65815567e+03]]\n"
     ]
    },
    {
     "data": {
      "image/png": "[encoded data removed]",
      "text/plain": [
       "<Figure size 432x288 with 1 Axes>"
      ]
     },
     "metadata": {
      "needs_background": "light"
     },
     "output_type": "display_data"
    },
    {
     "data": {
      "text/plain": [
       "<Figure size 432x288 with 0 Axes>"
      ]
     },
     "metadata": {},
     "output_type": "display_data"
    }
   ],
   "source": [
    "kmeans = KMeans(n_clusters=4).fit(comeon)\n",
    "centroids = kmeans.cluster_centers_\n",
    "print(centroids)\n",
    "\n",
    "plt.scatter(comeon['Total Cup Points'], comeon['Mean Altitude in Meters'], c= kmeans.labels_.astype(float), s=50, alpha=0.5)\n",
    "plt.scatter(centroids[:, 0], centroids[:, 1], c='red', s=50)\n",
    "# plt.axis([60, 100, 0, 4700])\n",
    "plt.show()\n",
    "plt.savefig('/Users/laurelwilliamson/Desktop/GITHUB/testingstuff/unscaled_altitude_cup_points')"
   ]
  },
  {
   "cell_type": "code",
   "execution_count": null,
   "metadata": {},
   "outputs": [],
   "source": []
  }
 ],
 "metadata": {
  "kernelspec": {
   "display_name": "Python 3",
   "language": "python",
   "name": "python3"
  },
  "language_info": {
   "codemirror_mode": {
    "name": "ipython",
    "version": 3
   },
   "file_extension": ".py",
   "mimetype": "text/x-python",
   "name": "python",
   "nbconvert_exporter": "python",
   "pygments_lexer": "ipython3",
   "version": "3.8.3"
  }
 },
 "nbformat": 4,
 "nbformat_minor": 4
}
